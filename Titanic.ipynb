{
 "cells": [
  {
   "cell_type": "code",
   "execution_count": 1,
   "id": "5eb786ac-f08a-4b89-8605-80e4bf94b0f1",
   "metadata": {},
   "outputs": [],
   "source": [
    "import numpy as np\n",
    "import pandas as pd\n",
    "import matplotlib.pyplot as plt\n",
    "import seaborn as sns\n",
    "plt.style.use('ggplot')"
   ]
  },
  {
   "cell_type": "code",
   "execution_count": 2,
   "id": "6de6c5e3-58b9-45d6-a3f5-09224096ddab",
   "metadata": {},
   "outputs": [],
   "source": [
    "df1 = pd.read_csv('train.csv')\n",
    "df2 = pd.read_csv('test.csv')\n",
    "df3 = pd.read_csv('gender_submission.csv')"
   ]
  },
  {
   "cell_type": "code",
   "execution_count": 3,
   "id": "fcadb06d-0ff5-4548-b144-2ac1ac33422c",
   "metadata": {},
   "outputs": [
    {
     "data": {
      "text/html": [
       "<div>\n",
       "<style scoped>\n",
       "    .dataframe tbody tr th:only-of-type {\n",
       "        vertical-align: middle;\n",
       "    }\n",
       "\n",
       "    .dataframe tbody tr th {\n",
       "        vertical-align: top;\n",
       "    }\n",
       "\n",
       "    .dataframe thead th {\n",
       "        text-align: right;\n",
       "    }\n",
       "</style>\n",
       "<table border=\"1\" class=\"dataframe\">\n",
       "  <thead>\n",
       "    <tr style=\"text-align: right;\">\n",
       "      <th></th>\n",
       "      <th>PassengerId</th>\n",
       "      <th>Survived</th>\n",
       "      <th>Pclass</th>\n",
       "      <th>Name</th>\n",
       "      <th>Sex</th>\n",
       "      <th>Age</th>\n",
       "      <th>SibSp</th>\n",
       "      <th>Parch</th>\n",
       "      <th>Ticket</th>\n",
       "      <th>Fare</th>\n",
       "      <th>Cabin</th>\n",
       "      <th>Embarked</th>\n",
       "    </tr>\n",
       "  </thead>\n",
       "  <tbody>\n",
       "    <tr>\n",
       "      <th>0</th>\n",
       "      <td>1</td>\n",
       "      <td>0</td>\n",
       "      <td>3</td>\n",
       "      <td>Braund, Mr. Owen Harris</td>\n",
       "      <td>male</td>\n",
       "      <td>22.0</td>\n",
       "      <td>1</td>\n",
       "      <td>0</td>\n",
       "      <td>A/5 21171</td>\n",
       "      <td>7.2500</td>\n",
       "      <td>NaN</td>\n",
       "      <td>S</td>\n",
       "    </tr>\n",
       "    <tr>\n",
       "      <th>1</th>\n",
       "      <td>2</td>\n",
       "      <td>1</td>\n",
       "      <td>1</td>\n",
       "      <td>Cumings, Mrs. John Bradley (Florence Briggs Th...</td>\n",
       "      <td>female</td>\n",
       "      <td>38.0</td>\n",
       "      <td>1</td>\n",
       "      <td>0</td>\n",
       "      <td>PC 17599</td>\n",
       "      <td>71.2833</td>\n",
       "      <td>C85</td>\n",
       "      <td>C</td>\n",
       "    </tr>\n",
       "    <tr>\n",
       "      <th>2</th>\n",
       "      <td>3</td>\n",
       "      <td>1</td>\n",
       "      <td>3</td>\n",
       "      <td>Heikkinen, Miss. Laina</td>\n",
       "      <td>female</td>\n",
       "      <td>26.0</td>\n",
       "      <td>0</td>\n",
       "      <td>0</td>\n",
       "      <td>STON/O2. 3101282</td>\n",
       "      <td>7.9250</td>\n",
       "      <td>NaN</td>\n",
       "      <td>S</td>\n",
       "    </tr>\n",
       "    <tr>\n",
       "      <th>3</th>\n",
       "      <td>4</td>\n",
       "      <td>1</td>\n",
       "      <td>1</td>\n",
       "      <td>Futrelle, Mrs. Jacques Heath (Lily May Peel)</td>\n",
       "      <td>female</td>\n",
       "      <td>35.0</td>\n",
       "      <td>1</td>\n",
       "      <td>0</td>\n",
       "      <td>113803</td>\n",
       "      <td>53.1000</td>\n",
       "      <td>C123</td>\n",
       "      <td>S</td>\n",
       "    </tr>\n",
       "    <tr>\n",
       "      <th>4</th>\n",
       "      <td>5</td>\n",
       "      <td>0</td>\n",
       "      <td>3</td>\n",
       "      <td>Allen, Mr. William Henry</td>\n",
       "      <td>male</td>\n",
       "      <td>35.0</td>\n",
       "      <td>0</td>\n",
       "      <td>0</td>\n",
       "      <td>373450</td>\n",
       "      <td>8.0500</td>\n",
       "      <td>NaN</td>\n",
       "      <td>S</td>\n",
       "    </tr>\n",
       "    <tr>\n",
       "      <th>...</th>\n",
       "      <td>...</td>\n",
       "      <td>...</td>\n",
       "      <td>...</td>\n",
       "      <td>...</td>\n",
       "      <td>...</td>\n",
       "      <td>...</td>\n",
       "      <td>...</td>\n",
       "      <td>...</td>\n",
       "      <td>...</td>\n",
       "      <td>...</td>\n",
       "      <td>...</td>\n",
       "      <td>...</td>\n",
       "    </tr>\n",
       "    <tr>\n",
       "      <th>886</th>\n",
       "      <td>887</td>\n",
       "      <td>0</td>\n",
       "      <td>2</td>\n",
       "      <td>Montvila, Rev. Juozas</td>\n",
       "      <td>male</td>\n",
       "      <td>27.0</td>\n",
       "      <td>0</td>\n",
       "      <td>0</td>\n",
       "      <td>211536</td>\n",
       "      <td>13.0000</td>\n",
       "      <td>NaN</td>\n",
       "      <td>S</td>\n",
       "    </tr>\n",
       "    <tr>\n",
       "      <th>887</th>\n",
       "      <td>888</td>\n",
       "      <td>1</td>\n",
       "      <td>1</td>\n",
       "      <td>Graham, Miss. Margaret Edith</td>\n",
       "      <td>female</td>\n",
       "      <td>19.0</td>\n",
       "      <td>0</td>\n",
       "      <td>0</td>\n",
       "      <td>112053</td>\n",
       "      <td>30.0000</td>\n",
       "      <td>B42</td>\n",
       "      <td>S</td>\n",
       "    </tr>\n",
       "    <tr>\n",
       "      <th>888</th>\n",
       "      <td>889</td>\n",
       "      <td>0</td>\n",
       "      <td>3</td>\n",
       "      <td>Johnston, Miss. Catherine Helen \"Carrie\"</td>\n",
       "      <td>female</td>\n",
       "      <td>NaN</td>\n",
       "      <td>1</td>\n",
       "      <td>2</td>\n",
       "      <td>W./C. 6607</td>\n",
       "      <td>23.4500</td>\n",
       "      <td>NaN</td>\n",
       "      <td>S</td>\n",
       "    </tr>\n",
       "    <tr>\n",
       "      <th>889</th>\n",
       "      <td>890</td>\n",
       "      <td>1</td>\n",
       "      <td>1</td>\n",
       "      <td>Behr, Mr. Karl Howell</td>\n",
       "      <td>male</td>\n",
       "      <td>26.0</td>\n",
       "      <td>0</td>\n",
       "      <td>0</td>\n",
       "      <td>111369</td>\n",
       "      <td>30.0000</td>\n",
       "      <td>C148</td>\n",
       "      <td>C</td>\n",
       "    </tr>\n",
       "    <tr>\n",
       "      <th>890</th>\n",
       "      <td>891</td>\n",
       "      <td>0</td>\n",
       "      <td>3</td>\n",
       "      <td>Dooley, Mr. Patrick</td>\n",
       "      <td>male</td>\n",
       "      <td>32.0</td>\n",
       "      <td>0</td>\n",
       "      <td>0</td>\n",
       "      <td>370376</td>\n",
       "      <td>7.7500</td>\n",
       "      <td>NaN</td>\n",
       "      <td>Q</td>\n",
       "    </tr>\n",
       "  </tbody>\n",
       "</table>\n",
       "<p>891 rows × 12 columns</p>\n",
       "</div>"
      ],
      "text/plain": [
       "     PassengerId  Survived  Pclass  \\\n",
       "0              1         0       3   \n",
       "1              2         1       1   \n",
       "2              3         1       3   \n",
       "3              4         1       1   \n",
       "4              5         0       3   \n",
       "..           ...       ...     ...   \n",
       "886          887         0       2   \n",
       "887          888         1       1   \n",
       "888          889         0       3   \n",
       "889          890         1       1   \n",
       "890          891         0       3   \n",
       "\n",
       "                                                  Name     Sex   Age  SibSp  \\\n",
       "0                              Braund, Mr. Owen Harris    male  22.0      1   \n",
       "1    Cumings, Mrs. John Bradley (Florence Briggs Th...  female  38.0      1   \n",
       "2                               Heikkinen, Miss. Laina  female  26.0      0   \n",
       "3         Futrelle, Mrs. Jacques Heath (Lily May Peel)  female  35.0      1   \n",
       "4                             Allen, Mr. William Henry    male  35.0      0   \n",
       "..                                                 ...     ...   ...    ...   \n",
       "886                              Montvila, Rev. Juozas    male  27.0      0   \n",
       "887                       Graham, Miss. Margaret Edith  female  19.0      0   \n",
       "888           Johnston, Miss. Catherine Helen \"Carrie\"  female   NaN      1   \n",
       "889                              Behr, Mr. Karl Howell    male  26.0      0   \n",
       "890                                Dooley, Mr. Patrick    male  32.0      0   \n",
       "\n",
       "     Parch            Ticket     Fare Cabin Embarked  \n",
       "0        0         A/5 21171   7.2500   NaN        S  \n",
       "1        0          PC 17599  71.2833   C85        C  \n",
       "2        0  STON/O2. 3101282   7.9250   NaN        S  \n",
       "3        0            113803  53.1000  C123        S  \n",
       "4        0            373450   8.0500   NaN        S  \n",
       "..     ...               ...      ...   ...      ...  \n",
       "886      0            211536  13.0000   NaN        S  \n",
       "887      0            112053  30.0000   B42        S  \n",
       "888      2        W./C. 6607  23.4500   NaN        S  \n",
       "889      0            111369  30.0000  C148        C  \n",
       "890      0            370376   7.7500   NaN        Q  \n",
       "\n",
       "[891 rows x 12 columns]"
      ]
     },
     "execution_count": 3,
     "metadata": {},
     "output_type": "execute_result"
    }
   ],
   "source": [
    "df1"
   ]
  },
  {
   "cell_type": "code",
   "execution_count": 4,
   "id": "88fa58d0-9bcc-4a18-a5f3-85fc7a145630",
   "metadata": {},
   "outputs": [
    {
     "data": {
      "text/html": [
       "<div>\n",
       "<style scoped>\n",
       "    .dataframe tbody tr th:only-of-type {\n",
       "        vertical-align: middle;\n",
       "    }\n",
       "\n",
       "    .dataframe tbody tr th {\n",
       "        vertical-align: top;\n",
       "    }\n",
       "\n",
       "    .dataframe thead th {\n",
       "        text-align: right;\n",
       "    }\n",
       "</style>\n",
       "<table border=\"1\" class=\"dataframe\">\n",
       "  <thead>\n",
       "    <tr style=\"text-align: right;\">\n",
       "      <th></th>\n",
       "      <th>PassengerId</th>\n",
       "      <th>Survived</th>\n",
       "      <th>Pclass</th>\n",
       "      <th>Age</th>\n",
       "      <th>SibSp</th>\n",
       "      <th>Parch</th>\n",
       "      <th>Fare</th>\n",
       "    </tr>\n",
       "  </thead>\n",
       "  <tbody>\n",
       "    <tr>\n",
       "      <th>count</th>\n",
       "      <td>891.000000</td>\n",
       "      <td>891.000000</td>\n",
       "      <td>891.000000</td>\n",
       "      <td>714.000000</td>\n",
       "      <td>891.000000</td>\n",
       "      <td>891.000000</td>\n",
       "      <td>891.000000</td>\n",
       "    </tr>\n",
       "    <tr>\n",
       "      <th>mean</th>\n",
       "      <td>446.000000</td>\n",
       "      <td>0.383838</td>\n",
       "      <td>2.308642</td>\n",
       "      <td>29.699118</td>\n",
       "      <td>0.523008</td>\n",
       "      <td>0.381594</td>\n",
       "      <td>32.204208</td>\n",
       "    </tr>\n",
       "    <tr>\n",
       "      <th>std</th>\n",
       "      <td>257.353842</td>\n",
       "      <td>0.486592</td>\n",
       "      <td>0.836071</td>\n",
       "      <td>14.526497</td>\n",
       "      <td>1.102743</td>\n",
       "      <td>0.806057</td>\n",
       "      <td>49.693429</td>\n",
       "    </tr>\n",
       "    <tr>\n",
       "      <th>min</th>\n",
       "      <td>1.000000</td>\n",
       "      <td>0.000000</td>\n",
       "      <td>1.000000</td>\n",
       "      <td>0.420000</td>\n",
       "      <td>0.000000</td>\n",
       "      <td>0.000000</td>\n",
       "      <td>0.000000</td>\n",
       "    </tr>\n",
       "    <tr>\n",
       "      <th>25%</th>\n",
       "      <td>223.500000</td>\n",
       "      <td>0.000000</td>\n",
       "      <td>2.000000</td>\n",
       "      <td>20.125000</td>\n",
       "      <td>0.000000</td>\n",
       "      <td>0.000000</td>\n",
       "      <td>7.910400</td>\n",
       "    </tr>\n",
       "    <tr>\n",
       "      <th>50%</th>\n",
       "      <td>446.000000</td>\n",
       "      <td>0.000000</td>\n",
       "      <td>3.000000</td>\n",
       "      <td>28.000000</td>\n",
       "      <td>0.000000</td>\n",
       "      <td>0.000000</td>\n",
       "      <td>14.454200</td>\n",
       "    </tr>\n",
       "    <tr>\n",
       "      <th>75%</th>\n",
       "      <td>668.500000</td>\n",
       "      <td>1.000000</td>\n",
       "      <td>3.000000</td>\n",
       "      <td>38.000000</td>\n",
       "      <td>1.000000</td>\n",
       "      <td>0.000000</td>\n",
       "      <td>31.000000</td>\n",
       "    </tr>\n",
       "    <tr>\n",
       "      <th>max</th>\n",
       "      <td>891.000000</td>\n",
       "      <td>1.000000</td>\n",
       "      <td>3.000000</td>\n",
       "      <td>80.000000</td>\n",
       "      <td>8.000000</td>\n",
       "      <td>6.000000</td>\n",
       "      <td>512.329200</td>\n",
       "    </tr>\n",
       "  </tbody>\n",
       "</table>\n",
       "</div>"
      ],
      "text/plain": [
       "       PassengerId    Survived      Pclass         Age       SibSp  \\\n",
       "count   891.000000  891.000000  891.000000  714.000000  891.000000   \n",
       "mean    446.000000    0.383838    2.308642   29.699118    0.523008   \n",
       "std     257.353842    0.486592    0.836071   14.526497    1.102743   \n",
       "min       1.000000    0.000000    1.000000    0.420000    0.000000   \n",
       "25%     223.500000    0.000000    2.000000   20.125000    0.000000   \n",
       "50%     446.000000    0.000000    3.000000   28.000000    0.000000   \n",
       "75%     668.500000    1.000000    3.000000   38.000000    1.000000   \n",
       "max     891.000000    1.000000    3.000000   80.000000    8.000000   \n",
       "\n",
       "            Parch        Fare  \n",
       "count  891.000000  891.000000  \n",
       "mean     0.381594   32.204208  \n",
       "std      0.806057   49.693429  \n",
       "min      0.000000    0.000000  \n",
       "25%      0.000000    7.910400  \n",
       "50%      0.000000   14.454200  \n",
       "75%      0.000000   31.000000  \n",
       "max      6.000000  512.329200  "
      ]
     },
     "execution_count": 4,
     "metadata": {},
     "output_type": "execute_result"
    }
   ],
   "source": [
    "df1.describe()"
   ]
  },
  {
   "cell_type": "code",
   "execution_count": 5,
   "id": "22a9aca2-b2b2-485a-a346-b1ca221f7053",
   "metadata": {},
   "outputs": [
    {
     "name": "stdout",
     "output_type": "stream",
     "text": [
      "<class 'pandas.core.frame.DataFrame'>\n",
      "RangeIndex: 891 entries, 0 to 890\n",
      "Data columns (total 12 columns):\n",
      " #   Column       Non-Null Count  Dtype  \n",
      "---  ------       --------------  -----  \n",
      " 0   PassengerId  891 non-null    int64  \n",
      " 1   Survived     891 non-null    int64  \n",
      " 2   Pclass       891 non-null    int64  \n",
      " 3   Name         891 non-null    object \n",
      " 4   Sex          891 non-null    object \n",
      " 5   Age          714 non-null    float64\n",
      " 6   SibSp        891 non-null    int64  \n",
      " 7   Parch        891 non-null    int64  \n",
      " 8   Ticket       891 non-null    object \n",
      " 9   Fare         891 non-null    float64\n",
      " 10  Cabin        204 non-null    object \n",
      " 11  Embarked     889 non-null    object \n",
      "dtypes: float64(2), int64(5), object(5)\n",
      "memory usage: 83.7+ KB\n"
     ]
    }
   ],
   "source": [
    "df1.info()"
   ]
  },
  {
   "cell_type": "code",
   "execution_count": 6,
   "id": "7b50ed43-3b31-45a5-a65c-c509bb6b79cb",
   "metadata": {},
   "outputs": [],
   "source": [
    "# Convert the Survival calumn data type to int64 to boolean\n",
    "\n",
    "df1['Survived'] = df1['Survived'].astype('boolean')"
   ]
  },
  {
   "cell_type": "code",
   "execution_count": 7,
   "id": "17470c9c-d5d0-4cb9-a9d6-8453e5b20bf2",
   "metadata": {},
   "outputs": [],
   "source": [
    "# Convert the Name column data type to string from object\n",
    "\n",
    "df1['Name'] = df1['Name'].astype('string')"
   ]
  },
  {
   "cell_type": "code",
   "execution_count": 8,
   "id": "4fe2dac3-517a-48dd-a5cc-2796b76b83ef",
   "metadata": {},
   "outputs": [],
   "source": [
    "# Renaming the columns\n",
    "\n",
    "df1 = df1.rename(columns={'Pclass': 'Ticket Class',\n",
    "                          'Embarked': 'Port of Embarkment',\n",
    "                          'SibSp': 'Siblings/Spouse',\n",
    "                          'Parch': 'Parents/Children',\n",
    "                          'Ticket': 'Ticket Number'},)"
   ]
  },
  {
   "cell_type": "code",
   "execution_count": 9,
   "id": "16fb89f0-c636-46a0-971b-7414e1e146d7",
   "metadata": {},
   "outputs": [
    {
     "data": {
      "text/plain": [
       "Index(['PassengerId', 'Survived', 'Ticket Class', 'Name', 'Sex', 'Age',\n",
       "       'Siblings/Spouse', 'Parents/Children', 'Ticket Number', 'Fare', 'Cabin',\n",
       "       'Port of Embarkment'],\n",
       "      dtype='object')"
      ]
     },
     "execution_count": 9,
     "metadata": {},
     "output_type": "execute_result"
    }
   ],
   "source": [
    "df1.columns"
   ]
  },
  {
   "cell_type": "code",
   "execution_count": 10,
   "id": "9e5591b1-d1fd-454c-a526-06d5867fbab4",
   "metadata": {},
   "outputs": [
    {
     "name": "stdout",
     "output_type": "stream",
     "text": [
      "38.38383838383838\n"
     ]
    }
   ],
   "source": [
    "# Calculating the percentage (%) of people survived\n",
    "\n",
    "survived = df1[df1['Survived'] == 1]\n",
    "died = df1[df1['Survived'] == 0]\n",
    "\n",
    "per = survived.shape[0] * 100/ (survived.shape[0] + died.shape[0])\n",
    "print(per)"
   ]
  },
  {
   "cell_type": "code",
   "execution_count": 11,
   "id": "a201be6f-37f4-4057-a8de-6acb0cda66bb",
   "metadata": {},
   "outputs": [],
   "source": [
    "# Converting the data type of Sex column to string from object\n",
    "# This is so we can calculate % of male and female\n",
    "\n",
    "df1['Sex'] = df1['Sex'].astype('string')"
   ]
  },
  {
   "cell_type": "code",
   "execution_count": 35,
   "id": "994edbf8-fdf9-4ece-817f-016ec218c4d5",
   "metadata": {},
   "outputs": [
    {
     "name": "stdout",
     "output_type": "stream",
     "text": [
      "577\n",
      "314\n"
     ]
    }
   ],
   "source": [
    "# calculating the % of male and female\n",
    "\n",
    "male = df1[df1['Sex'] == 'male']\n",
    "female = df1[df1['Sex'] == 'female']\n",
    "\n",
    "\n",
    "print(male.shape[0])\n",
    "print(female.shape[0])"
   ]
  },
  {
   "cell_type": "code",
   "execution_count": 13,
   "id": "f44bf5f8-9a2f-4fd7-a633-e7a0937e6849",
   "metadata": {},
   "outputs": [],
   "source": [
    "# calculating the % of male and female survived\n",
    "\n",
    "male_survived = df1.loc[(df1['Sex'] == 'male') & (df1['Survived'] == 1)]\n",
    "female_survived = df1.loc[(df1['Sex'] == 'female') & (df1['Survived'] == 1)]\n",
    "\n",
    "male_died = df1.loc[(df1['Sex'] == 'male') & (df1['Survived'] == 0)]\n",
    "female_died = df1.loc[(df1['Sex'] == 'female') & (df1['Survived'] == 0)]\n",
    "\n",
    "male_per = (male_survived.shape[0] * 100) / (male_survived.shape[0] + male_died.shape[0])\n",
    "female_per = (female_survived.shape[0] * 100) / (female_survived.shape[0] + female_died.shape[0])"
   ]
  },
  {
   "cell_type": "code",
   "execution_count": 14,
   "id": "a94583e7-4dc3-42ad-9077-e9096abe6eee",
   "metadata": {},
   "outputs": [
    {
     "name": "stdout",
     "output_type": "stream",
     "text": [
      "18.890814558058924\n",
      "74.20382165605096\n"
     ]
    }
   ],
   "source": [
    "print(male_per)\n",
    "print(female_per)"
   ]
  },
  {
   "cell_type": "code",
   "execution_count": 15,
   "id": "fac41ac9-a6ab-4add-994a-6bc820cff696",
   "metadata": {},
   "outputs": [
    {
     "data": {
      "image/png": "[encoded data removed]",
      "text/plain": [
       "<Figure size 640x480 with 1 Axes>"
      ]
     },
     "metadata": {},
     "output_type": "display_data"
    }
   ],
   "source": [
    "fig3, ax5 = plt.subplots()\n",
    "\n",
    "\n",
    "ax5.bar(['Male', 'Female'], [male_per, female_per], color=['tab:red', 'tab:blue'])\n",
    "\n",
    "ax5.set_xlabel('Sex')\n",
    "ax5.set_ylabel('% of People Survived')\n",
    "\n",
    "\n",
    "plt.show()"
   ]
  },
  {
   "cell_type": "code",
   "execution_count": 16,
   "id": "19df9ffb-d75c-40fa-80ac-f9fdff22e1f8",
   "metadata": {},
   "outputs": [],
   "source": [
    "# Converting the data type of ticket class column to integer from object\n",
    "# this is so we can calculate the following metric\n",
    "\n",
    "df1['Ticket Class'] = df1['Ticket Class'].astype('int8')"
   ]
  },
  {
   "cell_type": "code",
   "execution_count": 17,
   "id": "c5d11782-6965-40e4-b9a1-b517305b4c92",
   "metadata": {},
   "outputs": [],
   "source": [
    "# calculating the % of people survived based on ticket class (socio-economic class)\n",
    "\n",
    "first_survived = df1.loc[(df1['Survived'] == 1) & (df1['Ticket Class'] == 1)]\n",
    "second_survived = df1.loc[(df1['Survived'] == 1) & (df1['Ticket Class'] == 2)]\n",
    "third_survived = df1.loc[(df1['Survived'] == 1) & (df1['Ticket Class'] == 3)]\n",
    "\n",
    "first_died = df1.loc[(df1['Survived'] == 0) & (df1['Ticket Class'] == 1)]\n",
    "second_died = df1.loc[(df1['Survived'] == 0) & (df1['Ticket Class'] == 2)]\n",
    "third_died = df1.loc[(df1['Survived'] == 0) & (df1['Ticket Class'] == 3)]\n",
    "\n",
    "first_per = (first_survived.shape[0] * 100) / (first_survived.shape[0] + first_died.shape[0])\n",
    "\n",
    "second_per = (second_survived.shape[0] * 100) / (second_survived.shape[0] + second_died.shape[0])\n",
    "\n",
    "third_per = (third_survived.shape[0] * 100) / (third_survived.shape[0] + third_died.shape[0])"
   ]
  },
  {
   "cell_type": "code",
   "execution_count": 18,
   "id": "8f4e61fb-ef30-4b0a-be28-0aeac8f6becf",
   "metadata": {},
   "outputs": [
    {
     "name": "stdout",
     "output_type": "stream",
     "text": [
      "62.96296296296296\n",
      "47.28260869565217\n",
      "24.236252545824847\n"
     ]
    }
   ],
   "source": [
    "print(first_per)\n",
    "print(second_per)\n",
    "print(third_per)"
   ]
  },
  {
   "cell_type": "code",
   "execution_count": 19,
   "id": "c8af5480-06a1-47fd-9d67-3f7596636b33",
   "metadata": {},
   "outputs": [
    {
     "data": {
      "image/png": "[encoded data removed]",
      "text/plain": [
       "<Figure size 640x480 with 1 Axes>"
      ]
     },
     "metadata": {},
     "output_type": "display_data"
    }
   ],
   "source": [
    "fig, ax1 = plt.subplots()\n",
    "\n",
    "ax1_colors = ['tab:blue', 'tab:red', 'tab:green']\n",
    "ax1.bar(['First', 'Second', 'Third'], [first_per, second_per, third_per], label=['First', 'Second', 'Third'], color=ax1_colors)\n",
    "\n",
    "ax1.set_xlabel('Ticket Class')\n",
    "ax1.set_ylabel('% of People Survived')\n",
    "\n",
    "plt.show()"
   ]
  },
  {
   "cell_type": "code",
   "execution_count": 20,
   "id": "d6c9acaa-c623-4d3c-8c3e-c2b9dd21422d",
   "metadata": {},
   "outputs": [],
   "source": [
    "# Converting the data type of Port of embarkment column to string from object\n",
    "\n",
    "df1['Port of Embarkment'] = df1['Port of Embarkment'].astype('string')"
   ]
  },
  {
   "cell_type": "code",
   "execution_count": 21,
   "id": "a03aeca1-a3a7-4dcd-8f06-aca64d495634",
   "metadata": {},
   "outputs": [],
   "source": [
    "# grouping the Port of Embarkment and Ticket Class columns together\n",
    "# To plot a graph between them\n",
    "\n",
    "port_vs_economic = df1.groupby(['Port of Embarkment', 'Ticket Class'])['Ticket Class'].count()"
   ]
  },
  {
   "cell_type": "code",
   "execution_count": 22,
   "id": "6c81b1c7-462e-4813-823d-1018b6f3b24a",
   "metadata": {},
   "outputs": [],
   "source": [
    "# Grouping data based on Ticket Class and Port of Embarkment for ploting\n",
    "\n",
    "first_C = df1.loc[(df1['Ticket Class'] == 1) & (df1['Port of Embarkment'] == 'C')]\n",
    "second_C = df1.loc[(df1['Ticket Class'] == 2) & (df1['Port of Embarkment'] == 'C')]\n",
    "third_C = df1.loc[(df1['Ticket Class'] == 3) & (df1['Port of Embarkment'] == 'C')]\n",
    "\n",
    "first_S = df1.loc[(df1['Ticket Class'] == 1) & (df1['Port of Embarkment'] == 'S')]\n",
    "second_S = df1.loc[(df1['Ticket Class'] == 2) & (df1['Port of Embarkment'] == 'S')]\n",
    "third_S = df1.loc[(df1['Ticket Class'] == 3) & (df1['Port of Embarkment'] == 'S')]\n",
    "\n",
    "first_Q = df1.loc[(df1['Ticket Class'] == 1) & (df1['Port of Embarkment'] == 'Q')]\n",
    "second_Q = df1.loc[(df1['Ticket Class'] == 2) & (df1['Port of Embarkment'] == 'Q')]\n",
    "third_Q = df1.loc[(df1['Ticket Class'] == 3) & (df1['Port of Embarkment'] == 'Q')]\n",
    "\n",
    "first_class = [first_C.shape[0], first_S.shape[0], first_Q.shape[0]]\n",
    "second_class = [second_C.shape[0], second_S.shape[0], second_Q.shape[0]]\n",
    "third_class = [third_C.shape[0], third_S.shape[0], third_Q.shape[0]]"
   ]
  },
  {
   "cell_type": "code",
   "execution_count": 23,
   "id": "a107ce94-1e86-4483-ba09-d83c374db3f9",
   "metadata": {},
   "outputs": [
    {
     "name": "stdout",
     "output_type": "stream",
     "text": [
      "[0 1 2 3 4]\n",
      "[0.25 1.25 2.25 3.25 4.25]\n",
      "[0.5 1.5 2.5 3.5 4.5]\n"
     ]
    }
   ],
   "source": [
    "a = 0.25\n",
    "r = np.arange(5)\n",
    "r_1 = r + a\n",
    "r_2 = r_1 + a\n",
    "\n",
    "print(r)\n",
    "print(r_1)\n",
    "print(r_2)"
   ]
  },
  {
   "cell_type": "code",
   "execution_count": 24,
   "id": "1e7ddbe6-04e7-4b80-965f-323d91cdb20a",
   "metadata": {},
   "outputs": [
    {
     "data": {
      "image/png": "[encoded data removed]",
      "text/plain": [
       "<Figure size 640x480 with 1 Axes>"
      ]
     },
     "metadata": {},
     "output_type": "display_data"
    }
   ],
   "source": [
    "bar_width = 0.25\n",
    "\n",
    "plot_range = range(len(first_class))\n",
    "\n",
    "r1 = []\n",
    "r2 = []\n",
    "r3 = []\n",
    "\n",
    "for i in plot_range:\n",
    "    r1.append(i)\n",
    "    r2.append(i + (1 * bar_width))\n",
    "    r3.append(i + (2 * bar_width))\n",
    "\n",
    "fig2, ax2 = plt.subplots(dpi=100)\n",
    "\n",
    "ax2.bar(r1, first_class, width=bar_width, label='Cherbourg')\n",
    "ax2.bar(r2, second_class, width=bar_width, label='Southampton')\n",
    "ax2.bar(r3, third_class, width=bar_width, label='Queenstown')\n",
    "\n",
    "\n",
    "ax2.set_xticks(r2)\n",
    "ax2.set_xticklabels(['First', 'Second', 'Third'])\n",
    "\n",
    "ax2.legend()\n",
    "plt.show()"
   ]
  },
  {
   "cell_type": "code",
   "execution_count": 25,
   "id": "1d1e7320-32b5-46d5-a0fd-6d47d46fe837",
   "metadata": {},
   "outputs": [],
   "source": [
    "# Categorizing People into different bins based on their Age\n",
    "\n",
    "df1['AgeGroup'] = pd.cut(df1['Age'], bins=[0, 12, 18, 50, 100], labels=['Child', 'Teen', 'Adult', 'Senior'])"
   ]
  },
  {
   "cell_type": "code",
   "execution_count": 26,
   "id": "c6d9835d-481b-464c-8439-77229a445133",
   "metadata": {},
   "outputs": [
    {
     "data": {
      "image/png": "[encoded data removed]",
      "text/plain": [
       "<Figure size 640x480 with 1 Axes>"
      ]
     },
     "metadata": {},
     "output_type": "display_data"
    }
   ],
   "source": [
    "ax3 = sns.barplot(data=df1, x=(df1['Survived']*100), hue='AgeGroup')\n",
    "\n",
    "ax3.set_xlabel('% of People Survived')\n",
    "plt.show()"
   ]
  },
  {
   "cell_type": "code",
   "execution_count": 27,
   "id": "0f9fccaa-8f1f-452b-a302-5dd8cc8b68ed",
   "metadata": {},
   "outputs": [],
   "source": [
    "df1['Familysize'] = df1['Siblings/Spouse'] + df1['Parents/Children'] + 1"
   ]
  },
  {
   "cell_type": "code",
   "execution_count": 28,
   "id": "70903689-fe6d-49d9-a185-a96226ee6404",
   "metadata": {},
   "outputs": [
    {
     "data": {
      "text/plain": [
       "0      2\n",
       "1      2\n",
       "2      1\n",
       "3      2\n",
       "4      1\n",
       "      ..\n",
       "886    1\n",
       "887    1\n",
       "888    4\n",
       "889    1\n",
       "890    1\n",
       "Name: Familysize, Length: 891, dtype: int64"
      ]
     },
     "execution_count": 28,
     "metadata": {},
     "output_type": "execute_result"
    }
   ],
   "source": [
    "df1['Familysize']"
   ]
  },
  {
   "cell_type": "code",
   "execution_count": 29,
   "id": "d0acb2a9-e113-461d-b5ac-b40b912e1409",
   "metadata": {},
   "outputs": [
    {
     "data": {
      "image/png": "[encoded data removed]",
      "text/plain": [
       "<Figure size 640x480 with 1 Axes>"
      ]
     },
     "metadata": {},
     "output_type": "display_data"
    }
   ],
   "source": [
    "ax4 = sns.barplot(data=df1, x=(df1['Survived']*100), hue='Familysize')\n",
    "\n",
    "ax4.set_xlabel('% of People Survived')\n",
    "\n",
    "plt.show()"
   ]
  },
  {
   "cell_type": "code",
   "execution_count": 30,
   "id": "e1e76c66-a7b6-49fd-a706-35f079305b7a",
   "metadata": {},
   "outputs": [
    {
     "name": "stdout",
     "output_type": "stream",
     "text": [
      "<class 'pandas.core.frame.DataFrame'>\n",
      "RangeIndex: 891 entries, 0 to 890\n",
      "Data columns (total 14 columns):\n",
      " #   Column              Non-Null Count  Dtype   \n",
      "---  ------              --------------  -----   \n",
      " 0   PassengerId         891 non-null    int64   \n",
      " 1   Survived            891 non-null    boolean \n",
      " 2   Ticket Class        891 non-null    int8    \n",
      " 3   Name                891 non-null    string  \n",
      " 4   Sex                 891 non-null    string  \n",
      " 5   Age                 714 non-null    float64 \n",
      " 6   Siblings/Spouse     891 non-null    int64   \n",
      " 7   Parents/Children    891 non-null    int64   \n",
      " 8   Ticket Number       891 non-null    object  \n",
      " 9   Fare                891 non-null    float64 \n",
      " 10  Cabin               204 non-null    object  \n",
      " 11  Port of Embarkment  889 non-null    string  \n",
      " 12  AgeGroup            714 non-null    category\n",
      " 13  Familysize          891 non-null    int64   \n",
      "dtypes: boolean(1), category(1), float64(2), int64(4), int8(1), object(2), string(3)\n",
      "memory usage: 80.4+ KB\n"
     ]
    }
   ],
   "source": [
    "df1.info()"
   ]
  },
  {
   "cell_type": "code",
   "execution_count": 31,
   "id": "073a4f66-2ece-49ad-9f51-f2250ec1d602",
   "metadata": {},
   "outputs": [],
   "source": [
    "# Converting the Sex column data type to category from string\n",
    "# Converting the Port of Embarkment column data type to category from string\n",
    "\n",
    "df1['Sex'] = df1['Sex'].astype('category')\n",
    "df1['Port of Embarkment'] = df1['Port of Embarkment'].astype('category')"
   ]
  },
  {
   "cell_type": "code",
   "execution_count": 32,
   "id": "8b4f8339-53aa-4e2e-bd02-3fe086ea91c0",
   "metadata": {},
   "outputs": [
    {
     "data": {
      "image/png": "[encoded data removed]",
      "text/plain": [
       "<Figure size 640x480 with 1 Axes>"
      ]
     },
     "metadata": {},
     "output_type": "display_data"
    }
   ],
   "source": [
    "df1['Cabin'] = df1['Cabin'].str[0]\n",
    "ax6 = sns.barplot(data=df1, x=(df1['Survived']*100), hue='Cabin')\n",
    "\n",
    "ax6.set_xlabel('% of People Survived')\n",
    "ax6.set_ylabel('Cabin')\n",
    "plt.show()"
   ]
  },
  {
   "cell_type": "code",
   "execution_count": null,
   "id": "1243ed0d-ea34-46e3-9d5a-48586c4d5a52",
   "metadata": {},
   "outputs": [],
   "source": []
  },
  {
   "cell_type": "code",
   "execution_count": 29,
   "id": "75211af6-22f5-40bb-9cb2-d30a11b5cbbf",
   "metadata": {},
   "outputs": [
    {
     "data": {
      "text/plain": [
       "342"
      ]
     },
     "execution_count": 29,
     "metadata": {},
     "output_type": "execute_result"
    }
   ],
   "source": [
    "survived.shape[0]"
   ]
  }
 ],
 "metadata": {
  "kernelspec": {
   "display_name": "Python 3 (ipykernel)",
   "language": "python",
   "name": "python3"
  },
  "language_info": {
   "codemirror_mode": {
    "name": "ipython",
    "version": 3
   },
   "file_extension": ".py",
   "mimetype": "text/x-python",
   "name": "python",
   "nbconvert_exporter": "python",
   "pygments_lexer": "ipython3",
   "version": "3.12.7"
  }
 },
 "nbformat": 4,
 "nbformat_minor": 5
}
